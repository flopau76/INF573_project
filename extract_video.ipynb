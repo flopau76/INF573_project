{
 "cells": [
  {
   "cell_type": "code",
   "execution_count": null,
   "metadata": {},
   "outputs": [],
   "source": [
    "%matplotlib inline\n",
    "%matplotlib widget\n",
    "\n",
    "import numpy as np\n",
    "import math, random\n",
    "import cv2 as cv2 # opencv computer vision library\n",
    "from skimage import io # for io.imread\n",
    "from matplotlib import pyplot as plt # ploting\n",
    "\n",
    "import mediapipe as mp  # human pose detection\n",
    "\n",
    "import ast # string representation of list to list using ast.literal_eval()\n",
    "\n",
    "# interactive notebook widgets\n",
    "import ipywidgets as widgets\n",
    "from ipywidgets import interact, interact_manual"
   ]
  },
  {
   "cell_type": "code",
   "execution_count": null,
   "metadata": {},
   "outputs": [],
   "source": [
    "plan_face = io.imread('data/01.18.42.183_front.png')\n",
    "plan_face_crop = plan_face[0:700, 300:1300]\n",
    "plan_cote_1 =  io.imread('data/01.18.47.450_side1.png')\n",
    "plan_cote_2 =  io.imread('data/01.18.52.000_side2.png')\n",
    "\n",
    "travel_front = io.imread_collection ('data/travel_front/*')\n",
    "\n",
    "# autre\n",
    "plan_face_autre = io.imread('data/other/front.jpg')\n",
    "plan_cote_autre = io.imread('data/other/side.jpg')\n",
    "plan_shema = io.imread('data/other/shematic.jpg')"
   ]
  },
  {
   "cell_type": "code",
   "execution_count": null,
   "metadata": {},
   "outputs": [],
   "source": [
    "def imshow(images, titles=\"123456789\", callback = None, nrows = 0, ncols=0, figsize = (15,10)):\n",
    "    \"\"\"Plot a multiple images with titles.\n",
    "\n",
    "    Parameters\n",
    "    ----------\n",
    "    images : image list\n",
    "    titles : title list\n",
    "    ncols : number of columns of subplots wanted in the display\n",
    "    nrows : number of rows of subplots wanted in the figure\n",
    "    \"\"\"\n",
    "\n",
    "    if ncols == 0 and nrows == 0:\n",
    "        ncols = len(images)\n",
    "        nrows = 1\n",
    "    if ncols == 0:\n",
    "        ncols = len(images) // nrows\n",
    "    if nrows == 0:\n",
    "        nrows = len(images) // ncols\n",
    "\n",
    "    fig, axeslist = plt.subplots(ncols=ncols, nrows=nrows, squeeze=False, figsize = figsize)\n",
    "    for i, image in enumerate(images):\n",
    "        axeslist.ravel()[i].imshow(image, cmap=plt.gray(), vmin=0, vmax=255)\n",
    "        axeslist.ravel()[i].set_title(titles[i])\n",
    "        axeslist.ravel()[i].set_axis_off()\n",
    "    plt.tight_layout() # optional\n",
    "\n",
    "    if callback is not None:\n",
    "        def onclick(event):\n",
    "            [i],[j] = np.where(axeslist == event.inaxes)\n",
    "            callback(axeslist, [i,j], [event.xdata, event.ydata])\n",
    "\n",
    "        # Create an hard reference to the callback not to be cleared by the garbage collector\n",
    "        ka = fig.canvas.mpl_connect('button_press_event', onclick)\n",
    "    return axeslist"
   ]
  },
  {
   "cell_type": "markdown",
   "metadata": {},
   "source": [
    "# extract video"
   ]
  },
  {
   "cell_type": "code",
   "execution_count": null,
   "metadata": {},
   "outputs": [],
   "source": [
    "# create capture object\n",
    "cap = cv2.VideoCapture('data/video/travel.mp4')\n",
    "\n",
    "counter =0\n",
    "while cap.isOpened():\n",
    "    # read frame from capture object\n",
    "    _, frame = cap.read()\n",
    "    if counter%60 ==0:  # 30 frames per second\n",
    "        cv2.imwrite(f\"data/video/extract/{counter//60}.jpg\", frame)\n",
    "    counter +=1\n",
    "\n",
    "    if cv2.waitKey(1) == ord('q'):\n",
    "            break\n",
    "cap.release()\n",
    "cv2.destroyAllWindows()"
   ]
  },
  {
   "cell_type": "markdown",
   "metadata": {},
   "source": [
    "remark: error appears at the end of the video (frame is empty) but does not perturb the process"
   ]
  }
 ],
 "metadata": {
  "kernelspec": {
   "display_name": ".venv",
   "language": "python",
   "name": "python3"
  },
  "language_info": {
   "codemirror_mode": {
    "name": "ipython",
    "version": 3
   },
   "file_extension": ".py",
   "mimetype": "text/x-python",
   "name": "python",
   "nbconvert_exporter": "python",
   "pygments_lexer": "ipython3",
   "version": "3.8.10"
  }
 },
 "nbformat": 4,
 "nbformat_minor": 2
}
